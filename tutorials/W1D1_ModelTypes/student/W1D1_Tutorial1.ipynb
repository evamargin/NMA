{
  "cells": [
    {
      "cell_type": "markdown",
      "metadata": {
        "id": "view-in-github",
        "colab_type": "text"
      },
      "source": [
        "<a href=\"https://colab.research.google.com/github/evamargin/NMA/blob/main/tutorials/W1D1_ModelTypes/student/W1D1_Tutorial1.ipynb\" target=\"_parent\"><img src=\"https://colab.research.google.com/assets/colab-badge.svg\" alt=\"Open In Colab\"/></a>"
      ]
    },
    {
      "cell_type": "markdown",
      "metadata": {
        "execution": {},
        "id": "eQOX1ggv-dbZ"
      },
      "source": [
        "# Tutorial 1: \"What\" models\n",
        "\n",
        "**Week 1, Day 1: Model Types**\n",
        "\n",
        "**By Neuromatch Academy**\n",
        "\n",
        "__Content creators:__ Matt Laporte, Byron Galbraith, Konrad Kording\n",
        "\n",
        "__Content reviewers:__ Dalin Guo, Aishwarya Balwani, Madineh Sarvestani, Maryam Vaziri-Pashkam, Michael Waskom, Ella Batty\n",
        "\n",
        "__Production editors:__ Gagana B, Spiros Chavlis\n",
        "\n",
        "<br>\n",
        "\n",
        "We would like to acknowledge [Steinmetz _et al._ (2019)](https://www.nature.com/articles/s41586-019-1787-x) for sharing their data, a subset of which is used here."
      ]
    },
    {
      "cell_type": "markdown",
      "metadata": {
        "execution": {},
        "id": "E2oE_pAT-dbb"
      },
      "source": [
        "___\n",
        "# Tutorial Objectives\n",
        "\n",
        "*Estimated timing of tutorial: 50 minutes*\n",
        "\n",
        "This is tutorial 1 of a 3-part series on different flavors of models used to understand neural data. In this tutorial we will explore 'What' models, used to describe the data. To understand what our data looks like, we will visualize it in different ways. Then we will compare it to simple mathematical models. Specifically, we will:\n",
        "\n",
        "- Load a dataset with spiking activity from hundreds of neurons and understand how it is organized\n",
        "- Make plots to visualize characteristics of the spiking activity across the population\n",
        "- Compute the distribution of \"inter-spike intervals\" (ISIs) for a single neuron\n",
        "- Consider several formal models of this distribution's shape and fit them to the data \"by hand\""
      ]
    },
    {
      "cell_type": "code",
      "execution_count": null,
      "metadata": {
        "cellView": "form",
        "execution": {},
        "id": "jouH25-r-dbb"
      },
      "outputs": [],
      "source": [
        "\n",
        "# @title Tutorial slides\n",
        "# @markdown These are the slides for the videos in all tutorials today\n",
        "from IPython.display import IFrame\n",
        "link_id = \"6dxwe\"\n",
        "print(f\"If you want to download the slides: https://osf.io/download/{link_id}/\")\n",
        "IFrame(src=f\"https://mfr.ca-1.osf.io/render?url=https://osf.io/{link_id}/?direct%26mode=render%26action=download%26mode=render\", width=854, height=480)"
      ]
    },
    {
      "cell_type": "markdown",
      "metadata": {
        "execution": {},
        "id": "AozWvT0B-dbc"
      },
      "source": [
        "---\n",
        "# Setup\n",
        "\n"
      ]
    },
    {
      "cell_type": "code",
      "execution_count": 1,
      "metadata": {
        "cellView": "form",
        "execution": {},
        "id": "PQp6WosP-dbc",
        "outputId": "1e89ede8-a92a-47c3-a6c1-8def67578142",
        "colab": {
          "base_uri": "https://localhost:8080/"
        }
      },
      "outputs": [
        {
          "output_type": "stream",
          "name": "stdout",
          "text": [
            "  Preparing metadata (setup.py) ... \u001b[?25l\u001b[?25hdone\n",
            "  Preparing metadata (setup.py) ... \u001b[?25l\u001b[?25hdone\n",
            "\u001b[2K   \u001b[90m━━━━━━━━━━━━━━━━━━━━━━━━━━━━━━━━━━━━━━━━\u001b[0m \u001b[32m1.6/1.6 MB\u001b[0m \u001b[31m30.3 MB/s\u001b[0m eta \u001b[36m0:00:00\u001b[0m\n",
            "\u001b[?25h  Building wheel for vibecheck (setup.py) ... \u001b[?25l\u001b[?25hdone\n",
            "  Building wheel for datatops (setup.py) ... \u001b[?25l\u001b[?25hdone\n"
          ]
        }
      ],
      "source": [
        "# @title Install and import feedback gadget\n",
        "\n",
        "!pip3 install vibecheck datatops --quiet\n",
        "\n",
        "from vibecheck import DatatopsContentReviewContainer\n",
        "def content_review(notebook_section: str):\n",
        "    return DatatopsContentReviewContainer(\n",
        "        \"\",  # No text prompt\n",
        "        notebook_section,\n",
        "        {\n",
        "            \"url\": \"https://pmyvdlilci.execute-api.us-east-1.amazonaws.com/klab\",\n",
        "            \"name\": \"neuromatch_cn\",\n",
        "            \"user_key\": \"y1x3mpx5\",\n",
        "        },\n",
        "    ).render()\n",
        "\n",
        "\n",
        "feedback_prefix = \"W1D1_T1\""
      ]
    },
    {
      "cell_type": "markdown",
      "metadata": {
        "execution": {},
        "id": "v1MPvAWL-dbd"
      },
      "source": [
        "Python requires you to explicitly \"import\" libraries before their functions are available to use. We will always specify our imports at the beginning of each notebook or script."
      ]
    },
    {
      "cell_type": "code",
      "execution_count": 2,
      "metadata": {
        "execution": {},
        "pycharm": {
          "name": "#%%\n"
        },
        "id": "p4l8aQoX-dbd"
      },
      "outputs": [],
      "source": [
        "import numpy as np\n",
        "import matplotlib.pyplot as plt"
      ]
    },
    {
      "cell_type": "markdown",
      "metadata": {
        "execution": {},
        "id": "wN1lqu6U-dbe"
      },
      "source": [
        "Tutorial notebooks typically begin with several set-up steps that are hidden from view by default.\n",
        "\n",
        "**Important:** Even though the code is hidden, you still need to run it so that the rest of the notebook can work properly. Step through each cell, either by pressing the play button in the upper-left-hand corner or with a keyboard shortcut (`Cmd-Return` on a Mac, `Ctrl-Enter` otherwise). A number will appear inside the brackets (e.g. `[3]`) to tell you that the cell was executed and what order that happened in.\n",
        "\n",
        "If you are curious to see what is going on inside each cell, you can double click to expand. Once expanded, double-click the white space to the right of the editor to collapse again."
      ]
    },
    {
      "cell_type": "code",
      "execution_count": 3,
      "metadata": {
        "cellView": "form",
        "execution": {},
        "pycharm": {
          "name": "#%%\n"
        },
        "id": "dP-HoNgE-dbe"
      },
      "outputs": [],
      "source": [
        "# @title Figure Settings\n",
        "import logging\n",
        "logging.getLogger('matplotlib.font_manager').disabled = True\n",
        "\n",
        "import ipywidgets as widgets  # interactive display\n",
        "%matplotlib inline\n",
        "%config InlineBackend.figure_format = 'retina'\n",
        "plt.style.use(\"https://raw.githubusercontent.com/NeuromatchAcademy/course-content/main/nma.mplstyle\")"
      ]
    },
    {
      "cell_type": "code",
      "execution_count": 4,
      "metadata": {
        "cellView": "form",
        "execution": {},
        "id": "ymKSeO9B-dbe"
      },
      "outputs": [],
      "source": [
        "# @title Plotting functions\n",
        "\n",
        "def plot_isis(single_neuron_isis):\n",
        "  plt.hist(single_neuron_isis, bins=50, histtype=\"stepfilled\")\n",
        "  plt.axvline(single_neuron_isis.mean(), color=\"orange\", label=\"Mean ISI\")\n",
        "  plt.xlabel(\"ISI duration (s)\")\n",
        "  plt.ylabel(\"Number of spikes\")\n",
        "  plt.legend()"
      ]
    },
    {
      "cell_type": "code",
      "execution_count": 5,
      "metadata": {
        "cellView": "form",
        "execution": {},
        "pycharm": {
          "name": "#%%\n"
        },
        "id": "XOFIa3ZI-dbf"
      },
      "outputs": [],
      "source": [
        "#@title Data retrieval\n",
        "#@markdown This cell downloads the example dataset that we will use in this tutorial.\n",
        "import io\n",
        "import requests\n",
        "r = requests.get('https://osf.io/sy5xt/download')\n",
        "if r.status_code != 200:\n",
        "  print('Failed to download data')\n",
        "else:\n",
        "  spike_times = np.load(io.BytesIO(r.content), allow_pickle=True)['spike_times']"
      ]
    },
    {
      "cell_type": "markdown",
      "metadata": {
        "execution": {},
        "id": "UTQbKdI5-dbf"
      },
      "source": [
        "---\n",
        "# \"What\" models"
      ]
    },
    {
      "cell_type": "code",
      "execution_count": null,
      "metadata": {
        "cellView": "form",
        "execution": {},
        "id": "miQ_QjWr-dbf"
      },
      "outputs": [],
      "source": [
        "# @title Video 1: \"What\" Models\n",
        "from ipywidgets import widgets\n",
        "from IPython.display import YouTubeVideo\n",
        "from IPython.display import IFrame\n",
        "from IPython.display import display\n",
        "\n",
        "\n",
        "class PlayVideo(IFrame):\n",
        "  def __init__(self, id, source, page=1, width=400, height=300, **kwargs):\n",
        "    self.id = id\n",
        "    if source == 'Bilibili':\n",
        "      src = f'https://player.bilibili.com/player.html?bvid={id}&page={page}'\n",
        "    elif source == 'Osf':\n",
        "      src = f'https://mfr.ca-1.osf.io/render?url=https://osf.io/download/{id}/?direct%26mode=render'\n",
        "    super(PlayVideo, self).__init__(src, width, height, **kwargs)\n",
        "\n",
        "\n",
        "def display_videos(video_ids, W=400, H=300, fs=1):\n",
        "  tab_contents = []\n",
        "  for i, video_id in enumerate(video_ids):\n",
        "    out = widgets.Output()\n",
        "    with out:\n",
        "      if video_ids[i][0] == 'Youtube':\n",
        "        video = YouTubeVideo(id=video_ids[i][1], width=W,\n",
        "                             height=H, fs=fs, rel=0)\n",
        "        print(f'Video available at https://youtube.com/watch?v={video.id}')\n",
        "      else:\n",
        "        video = PlayVideo(id=video_ids[i][1], source=video_ids[i][0], width=W,\n",
        "                          height=H, fs=fs, autoplay=False)\n",
        "        if video_ids[i][0] == 'Bilibili':\n",
        "          print(f'Video available at https://www.bilibili.com/video/{video.id}')\n",
        "        elif video_ids[i][0] == 'Osf':\n",
        "          print(f'Video available at https://osf.io/{video.id}')\n",
        "      display(video)\n",
        "    tab_contents.append(out)\n",
        "  return tab_contents\n",
        "\n",
        "\n",
        "video_ids = [('Youtube', 'KgqR_jbjMQg'), ('Bilibili', 'BV1mz4y1X7ot')]\n",
        "tab_contents = display_videos(video_ids, W=854, H=480)\n",
        "tabs = widgets.Tab()\n",
        "tabs.children = tab_contents\n",
        "for i in range(len(tab_contents)):\n",
        "  tabs.set_title(i, video_ids[i][0])\n",
        "display(tabs)"
      ]
    },
    {
      "cell_type": "code",
      "execution_count": null,
      "metadata": {
        "cellView": "form",
        "execution": {},
        "id": "y4Y4KGMr-dbf"
      },
      "outputs": [],
      "source": [
        "# @title Submit your feedback\n",
        "content_review(f\"{feedback_prefix}_What_models_Video\")"
      ]
    },
    {
      "cell_type": "markdown",
      "metadata": {
        "execution": {},
        "id": "Bn84hZpT-dbf"
      },
      "source": [
        "---\n",
        "\n",
        "# Section 1: Exploring the Steinmetz dataset\n",
        "\n",
        "In this tutorial we will explore the structure of a neuroscience dataset.\n",
        "\n",
        "We consider a subset of data from a study of [Steinmetz _et al._ (2019)](https://www.nature.com/articles/s41586-019-1787-x). In this study, Neuropixels probes were implanted in the brains of mice. Electrical potentials were measured by hundreds of electrodes along the length of each probe. Each electrode's measurements captured local variations in the electric field due to nearby spiking neurons. A spike sorting algorithm was used to infer spike times and cluster spikes according to common origin: a single cluster of sorted spikes is causally attributed to a single neuron.\n",
        "\n",
        "In particular, a single recording session of spike times and neuron assignments was loaded and assigned to `spike_times` in the preceding setup.\n",
        "\n",
        "Typically a dataset comes with some information about its structure. However, this information may be incomplete. You might also apply some transformations or \"pre-processing\" to create a working representation of the data of interest, which might go partly undocumented depending on the circumstances. In any case it is important to be able to use the available tools to investigate unfamiliar aspects of a data structure.\n",
        "\n",
        "Let's see what our data looks like..."
      ]
    },
    {
      "cell_type": "markdown",
      "metadata": {
        "execution": {},
        "id": "gp19ANuK-dbg"
      },
      "source": [
        "## Section 1.1: Warming up with `spike_times`"
      ]
    },
    {
      "cell_type": "markdown",
      "metadata": {
        "execution": {},
        "id": "fbDrcD90-dbg"
      },
      "source": [
        "What is the Python type of our variable?"
      ]
    },
    {
      "cell_type": "code",
      "execution_count": 6,
      "metadata": {
        "execution": {},
        "pycharm": {
          "name": "#%%\n"
        },
        "id": "PObDLvh3-dbg",
        "outputId": "66804868-2b53-4dc3-dc8a-077069def5db",
        "colab": {
          "base_uri": "https://localhost:8080/"
        }
      },
      "outputs": [
        {
          "output_type": "execute_result",
          "data": {
            "text/plain": [
              "numpy.ndarray"
            ]
          },
          "metadata": {},
          "execution_count": 6
        }
      ],
      "source": [
        "type(spike_times)"
      ]
    },
    {
      "cell_type": "markdown",
      "metadata": {
        "execution": {},
        "id": "B7R6n2Hw-dbg"
      },
      "source": [
        "You should see `numpy.ndarray`, which means that it's a normal NumPy array.\n",
        "\n",
        "If you see an error message, it probably means that you did not execute the set-up cells at the top of the notebook. So go ahead and make sure to do that.\n",
        "\n",
        "Once everything is running properly, we can ask the next question about the dataset: what's its shape?"
      ]
    },
    {
      "cell_type": "code",
      "execution_count": 7,
      "metadata": {
        "execution": {},
        "pycharm": {
          "name": "#%%\n"
        },
        "id": "woEfmNqR-dbg",
        "outputId": "2df52eaf-c52b-4456-9a14-22eadbbe3350",
        "colab": {
          "base_uri": "https://localhost:8080/"
        }
      },
      "outputs": [
        {
          "output_type": "execute_result",
          "data": {
            "text/plain": [
              "(734,)"
            ]
          },
          "metadata": {},
          "execution_count": 7
        }
      ],
      "source": [
        "spike_times.shape"
      ]
    },
    {
      "cell_type": "markdown",
      "metadata": {
        "execution": {},
        "id": "qVh1t82q-dbg"
      },
      "source": [
        "There are 734 entries in one dimension, and no other dimensions. What is the Python type of the first entry, and what is *its* shape?"
      ]
    },
    {
      "cell_type": "code",
      "execution_count": 8,
      "metadata": {
        "execution": {},
        "pycharm": {
          "name": "#%%\n"
        },
        "id": "5SNCixOX-dbg",
        "outputId": "cb9d7dc7-0cae-4173-f15c-79e8fd9e7b2e",
        "colab": {
          "base_uri": "https://localhost:8080/"
        }
      },
      "outputs": [
        {
          "output_type": "stream",
          "name": "stdout",
          "text": [
            "<class 'numpy.ndarray'>\n",
            "(826,)\n"
          ]
        }
      ],
      "source": [
        "idx = 0\n",
        "print(\n",
        "  type(spike_times[idx]),\n",
        "  spike_times[idx].shape,\n",
        "  sep=\"\\n\",\n",
        ")"
      ]
    },
    {
      "cell_type": "markdown",
      "metadata": {
        "execution": {},
        "id": "KWkkqXXC-dbh"
      },
      "source": [
        "It's also a NumPy array with a 1D shape! Why didn't this show up as a second dimension in the shape of `spike_times`? That is, why not `spike_times.shape == (734, 826)`?\n",
        "\n",
        "To investigate, let's check another entry."
      ]
    },
    {
      "cell_type": "code",
      "execution_count": 9,
      "metadata": {
        "execution": {},
        "pycharm": {
          "name": "#%%\n"
        },
        "id": "hk0V5dfn-dbh",
        "outputId": "c3b55e87-c393-4848-ef8e-02703ae85cc7",
        "colab": {
          "base_uri": "https://localhost:8080/"
        }
      },
      "outputs": [
        {
          "output_type": "stream",
          "name": "stdout",
          "text": [
            "<class 'numpy.ndarray'>\n",
            "(9723,)\n"
          ]
        }
      ],
      "source": [
        "idx = 321\n",
        "print(\n",
        "  type(spike_times[idx]),\n",
        "  spike_times[idx].shape,\n",
        "  sep=\"\\n\",\n",
        ")"
      ]
    },
    {
      "cell_type": "markdown",
      "metadata": {
        "execution": {},
        "id": "nvKB-5yr-dbh"
      },
      "source": [
        "It's also a 1D NumPy array, but it has a different shape. Checking the NumPy types of the values in these arrays, and their first few elements, we see they are composed of floating point numbers (not another level of `np.ndarray`):"
      ]
    },
    {
      "cell_type": "code",
      "execution_count": 10,
      "metadata": {
        "execution": {},
        "pycharm": {
          "name": "#%%\n"
        },
        "id": "HFET0N7B-dbh",
        "outputId": "2b2f90a3-9c6b-4119-fbf8-c3af2a6efa15",
        "colab": {
          "base_uri": "https://localhost:8080/"
        }
      },
      "outputs": [
        {
          "output_type": "stream",
          "name": "stdout",
          "text": [
            "Neuron 0:\n",
            "float32\n",
            "[ 0.8149   14.822467 24.9646   25.1436   38.8709  ]\n",
            "\n",
            "\n",
            "Neuron 321:\n",
            "float32\n",
            "[1.0698667 1.1536334 1.2403667 1.7072    1.799    ]\n",
            "\n",
            "\n"
          ]
        }
      ],
      "source": [
        "i_neurons = [0, 321]\n",
        "i_print = slice(0, 5)\n",
        "\n",
        "for i in i_neurons:\n",
        "  print(\n",
        "    \"Neuron {}:\".format(i),\n",
        "    spike_times[i].dtype,\n",
        "    spike_times[i][i_print],\n",
        "    \"\\n\",\n",
        "    sep=\"\\n\"\n",
        "  )"
      ]
    },
    {
      "cell_type": "markdown",
      "metadata": {
        "execution": {},
        "id": "DHgVK4b8-dbh"
      },
      "source": [
        "Note that this time we've checked the NumPy `dtype` rather than the Python variable type. These two arrays contain floating point numbers (\"floats\") with 32 bits of precision.\n",
        "\n",
        "The basic picture is coming together:\n",
        "- `spike_times` is 1D, its entries are NumPy arrays, and its length is the number of neurons (734): by indexing it, we select a subset of neurons.\n",
        "- An array in `spike_times` is also 1D and corresponds to a single neuron; its entries are floating point numbers, and its length is the number of spikes attributed to that neuron. By indexing it, we select a subset of spike times for that neuron.\n",
        "\n",
        "Visually, you can think of the data structure as looking something like this:\n",
        "\n",
        "```\n",
        "| . . . . . |\n",
        "| . . . . . . . . |\n",
        "| . . . |\n",
        "| . . . . . . . |\n",
        "```\n",
        "\n",
        "Before moving on, we'll calculate and store the number of neurons in the dataset and the number of spikes per neuron:"
      ]
    },
    {
      "cell_type": "code",
      "execution_count": 11,
      "metadata": {
        "execution": {},
        "pycharm": {
          "name": "#%%\n"
        },
        "id": "AMTsnYN0-dbh",
        "outputId": "b70b5085-abc6-4670-e45e-c9cd769d91b9",
        "colab": {
          "base_uri": "https://localhost:8080/"
        }
      },
      "outputs": [
        {
          "output_type": "stream",
          "name": "stdout",
          "text": [
            "Number of neurons: 734\n",
            "Number of spikes for first five neurons: [826, 2818, 3953, 646, 1115]\n"
          ]
        }
      ],
      "source": [
        "n_neurons = len(spike_times)\n",
        "total_spikes_per_neuron = [len(spike_times_i) for spike_times_i in spike_times]\n",
        "\n",
        "print(f\"Number of neurons: {n_neurons}\")\n",
        "print(f\"Number of spikes for first five neurons: {total_spikes_per_neuron[:5]}\")"
      ]
    },
    {
      "cell_type": "code",
      "execution_count": null,
      "metadata": {
        "cellView": "form",
        "execution": {},
        "id": "kW43w6cx-dbh"
      },
      "outputs": [],
      "source": [
        "# @title Video 2: Exploring the dataset\n",
        "from ipywidgets import widgets\n",
        "from IPython.display import YouTubeVideo\n",
        "from IPython.display import IFrame\n",
        "from IPython.display import display\n",
        "\n",
        "\n",
        "class PlayVideo(IFrame):\n",
        "  def __init__(self, id, source, page=1, width=400, height=300, **kwargs):\n",
        "    self.id = id\n",
        "    if source == 'Bilibili':\n",
        "      src = f'https://player.bilibili.com/player.html?bvid={id}&page={page}'\n",
        "    elif source == 'Osf':\n",
        "      src = f'https://mfr.ca-1.osf.io/render?url=https://osf.io/download/{id}/?direct%26mode=render'\n",
        "    super(PlayVideo, self).__init__(src, width, height, **kwargs)\n",
        "\n",
        "\n",
        "def display_videos(video_ids, W=400, H=300, fs=1):\n",
        "  tab_contents = []\n",
        "  for i, video_id in enumerate(video_ids):\n",
        "    out = widgets.Output()\n",
        "    with out:\n",
        "      if video_ids[i][0] == 'Youtube':\n",
        "        video = YouTubeVideo(id=video_ids[i][1], width=W,\n",
        "                             height=H, fs=fs, rel=0)\n",
        "        print(f'Video available at https://youtube.com/watch?v={video.id}')\n",
        "      else:\n",
        "        video = PlayVideo(id=video_ids[i][1], source=video_ids[i][0], width=W,\n",
        "                          height=H, fs=fs, autoplay=False)\n",
        "        if video_ids[i][0] == 'Bilibili':\n",
        "          print(f'Video available at https://www.bilibili.com/video/{video.id}')\n",
        "        elif video_ids[i][0] == 'Osf':\n",
        "          print(f'Video available at https://osf.io/{video.id}')\n",
        "      display(video)\n",
        "    tab_contents.append(out)\n",
        "  return tab_contents\n",
        "\n",
        "\n",
        "video_ids = [('Youtube', 'oHwYWUI_o1U'), ('Bilibili', 'BV1Hp4y1S7Au')]\n",
        "tab_contents = display_videos(video_ids, W=854, H=480)\n",
        "tabs = widgets.Tab()\n",
        "tabs.children = tab_contents\n",
        "for i in range(len(tab_contents)):\n",
        "  tabs.set_title(i, video_ids[i][0])\n",
        "display(tabs)"
      ]
    },
    {
      "cell_type": "code",
      "execution_count": null,
      "metadata": {
        "cellView": "form",
        "execution": {},
        "id": "I-a3GjvW-dbi"
      },
      "outputs": [],
      "source": [
        "# @title Submit your feedback\n",
        "content_review(f\"{feedback_prefix}_Exploring_the_dataset_Video\")"
      ]
    },
    {
      "cell_type": "markdown",
      "metadata": {
        "execution": {},
        "id": "5N6sAqrI-dbi"
      },
      "source": [
        "## Section 1.2: Getting warmer: counting and plotting total spike counts\n",
        "\n",
        "As we've seen, the number of spikes over the entire recording is variable between neurons. More generally, some neurons tend to spike more than others in a given period. Let's explore what the distribution of spiking looks like across all the neurons in the dataset."
      ]
    },
    {
      "cell_type": "markdown",
      "metadata": {
        "execution": {},
        "id": "u52q24iz-dbi"
      },
      "source": [
        "Are most neurons \"loud\" or \"quiet\", compared to the average? To see, we'll define bins of constant width in terms of total spikes and count the neurons that fall in each bin. This is known as a \"histogram\".\n",
        "\n",
        "You can plot a histogram with the matplotlib function `plt.hist`. If you just need to compute it, you can use the numpy function `np.histogram` instead."
      ]
    },
    {
      "cell_type": "code",
      "execution_count": 12,
      "metadata": {
        "execution": {},
        "pycharm": {
          "name": "#%%\n"
        },
        "id": "CnH1qBYK-dbi",
        "outputId": "12b55012-5b1a-4a8f-d199-ea5c0032e8d3",
        "colab": {
          "base_uri": "https://localhost:8080/",
          "height": 592
        }
      },
      "outputs": [
        {
          "output_type": "display_data",
          "data": {
            "text/plain": [
              "<Figure size 800x600 with 1 Axes>"
            ],
            "image/png": "[encoded data removed]"
          },
          "metadata": {
            "image/png": {
              "width": 775,
              "height": 575
            }
          }
        }
      ],
      "source": [
        "plt.hist(total_spikes_per_neuron, bins=50, histtype=\"stepfilled\")\n",
        "plt.xlabel(\"Total spikes per neuron\")\n",
        "plt.ylabel(\"Number of neurons\");"
      ]
    },
    {
      "cell_type": "markdown",
      "metadata": {
        "execution": {},
        "id": "c27fBeVW-dbi"
      },
      "source": [
        "Let's see what percentage of neurons have a below-average spike count:"
      ]
    },
    {
      "cell_type": "code",
      "execution_count": 13,
      "metadata": {
        "execution": {},
        "pycharm": {
          "name": "#%%\n"
        },
        "id": "z5xQUtIC-dbi",
        "outputId": "e250b4a1-4134-4185-d7cc-e1456b1ef91a",
        "colab": {
          "base_uri": "https://localhost:8080/"
        }
      },
      "outputs": [
        {
          "output_type": "stream",
          "name": "stdout",
          "text": [
            "68.0% of neurons are below the mean\n"
          ]
        }
      ],
      "source": [
        "mean_spike_count = np.mean(total_spikes_per_neuron)\n",
        "frac_below_mean = (total_spikes_per_neuron < mean_spike_count).mean()\n",
        "print(f\"{frac_below_mean:2.1%} of neurons are below the mean\")"
      ]
    },
    {
      "cell_type": "markdown",
      "metadata": {
        "execution": {},
        "id": "8D4P6o-g-dbi"
      },
      "source": [
        "We can also see this by adding the average spike count to the histogram plot:"
      ]
    },
    {
      "cell_type": "code",
      "execution_count": null,
      "metadata": {
        "execution": {},
        "pycharm": {
          "name": "#%%\n"
        },
        "id": "5X7BAP1B-dbi"
      },
      "outputs": [],
      "source": [
        "plt.hist(total_spikes_per_neuron, bins=50, histtype=\"stepfilled\")\n",
        "plt.xlabel(\"Total spikes per neuron\")\n",
        "plt.ylabel(\"Number of neurons\")\n",
        "plt.axvline(mean_spike_count, color=\"orange\", label=\"Mean neuron\")\n",
        "plt.legend();"
      ]
    },
    {
      "cell_type": "markdown",
      "metadata": {
        "execution": {},
        "id": "N_jZCivB-dbj"
      },
      "source": [
        "This shows that the majority of neurons are relatively \"quiet\" compared to the mean, while a small number of neurons are exceptionally \"loud\": they must have spiked more often to reach a large count.\n",
        "\n",
        "### Coding Exercise 1.2: Comparing mean and median neurons\n",
        "\n",
        "If the mean neuron is more active than 68% of the population, what does that imply about the relationship between the mean neuron and the median neuron?\n",
        "\n",
        "*Exercise objective:* Reproduce the plot above, but add the median neuron.\n"
      ]
    },
    {
      "cell_type": "code",
      "execution_count": 16,
      "metadata": {
        "execution": {},
        "pycharm": {
          "name": "#%%\n"
        },
        "id": "7IWJoJr1-dbj",
        "outputId": "b9dffa64-c186-4660-f0a7-dc9022325a39",
        "colab": {
          "base_uri": "https://localhost:8080/",
          "height": 609
        }
      },
      "outputs": [
        {
          "output_type": "execute_result",
          "data": {
            "text/plain": [
              "<matplotlib.legend.Legend at 0x7fd249e6e810>"
            ]
          },
          "metadata": {},
          "execution_count": 16
        },
        {
          "output_type": "display_data",
          "data": {
            "text/plain": [
              "<Figure size 800x600 with 1 Axes>"
            ],
            "image/png": "[encoded data removed]"
          },
          "metadata": {
            "image/png": {
              "width": 775,
              "height": 575
            }
          }
        }
      ],
      "source": [
        "#################################################################################\n",
        "## TODO for students:\n",
        "# Fill out function and remove\n",
        "#raise NotImplementedError(\"Student exercise: complete histogram plotting with median\")\n",
        "#################################################################################\n",
        "\n",
        "# Compute median spike count\n",
        "median_spike_count = np.median(total_spikes_per_neuron)  # Hint: Try the function np.median\n",
        "\n",
        "# Visualize median, mean, and histogram\n",
        "plt.hist(total_spikes_per_neuron, bins=50, histtype=\"stepfilled\")\n",
        "plt.axvline(median_spike_count, color=\"limegreen\", label=\"Median neuron\")\n",
        "plt.axvline(mean_spike_count, color=\"orange\", label=\"Mean neuron\")\n",
        "plt.xlabel(\"Total spikes per neuron\")\n",
        "plt.ylabel(\"Number of neurons\")\n",
        "plt.legend()"
      ]
    },
    {
      "cell_type": "markdown",
      "metadata": {
        "execution": {},
        "pycharm": {
          "name": "#%%\n"
        },
        "id": "FvJNkDGS-dbt"
      },
      "source": [
        "[*Click for solution*](https://github.com/NeuromatchAcademy/course-content/tree/main/tutorials/W1D1_ModelTypes/solutions/W1D1_Tutorial1_Solution_9af91fe0.py)\n",
        "\n",
        "*Example output:*\n",
        "\n",
        "<img alt='Solution hint' align='left' width=775.0 height=575.0 src=https://raw.githubusercontent.com/NeuromatchAcademy/course-content/main/tutorials/W1D1_ModelTypes/static/W1D1_Tutorial1_Solution_9af91fe0_0.png>\n",
        "\n"
      ]
    },
    {
      "cell_type": "markdown",
      "metadata": {
        "execution": {},
        "id": "FN5zOV9--dbt"
      },
      "source": [
        "\n",
        "*Bonus:* The median is the 50th percentile. What about other percentiles? Can you show the interquartile range on the histogram?"
      ]
    },
    {
      "cell_type": "code",
      "execution_count": null,
      "metadata": {
        "cellView": "form",
        "execution": {},
        "id": "5nl97NQa-dbt"
      },
      "outputs": [],
      "source": [
        "# @title Submit your feedback\n",
        "content_review(f\"{feedback_prefix}_Comparing_mean_and_median_neurons_Exercise\")"
      ]
    },
    {
      "cell_type": "markdown",
      "metadata": {
        "execution": {},
        "id": "MO8_if06-dbu"
      },
      "source": [
        "---\n",
        "\n",
        "# Section 2: Visualizing neuronal spiking activity\n",
        "\n",
        "*Estimated timing to here from start of tutorial: 15 min*"
      ]
    },
    {
      "cell_type": "markdown",
      "metadata": {
        "execution": {},
        "id": "vYkF23LG-dbu"
      },
      "source": [
        "## Section 2.1: Getting a subset of the data\n",
        "\n",
        "Now we'll visualize trains of spikes. Because the recordings are long, we will first define a short time interval and restrict the visualization to only the spikes in this interval. We defined a helper function, `restrict_spike_times`, to do this for you. If you call `help()` on the function, it will tell you a little bit about itself:"
      ]
    },
    {
      "cell_type": "code",
      "execution_count": 17,
      "metadata": {
        "execution": {},
        "id": "QydIuY-4-dbu"
      },
      "outputs": [],
      "source": [
        "# @markdown Execute this cell for helper function `restrict_spike_times`\n",
        "def restrict_spike_times(spike_times, interval):\n",
        "  \"\"\"Given a spike_time dataset, restrict to spikes within given interval.\n",
        "\n",
        "  Args:\n",
        "    spike_times (sequence of np.ndarray): List or array of arrays,\n",
        "      each inner array has spike times for a single neuron.\n",
        "    interval (tuple): Min, max time values; keep min <= t < max.\n",
        "\n",
        "  Returns:\n",
        "    np.ndarray: like `spike_times`, but only within `interval`\n",
        "  \"\"\"\n",
        "  interval_spike_times = []\n",
        "  for spikes in spike_times:\n",
        "    interval_mask = (spikes >= interval[0]) & (spikes < interval[1])\n",
        "    interval_spike_times.append(spikes[interval_mask])\n",
        "  return np.array(interval_spike_times, object)"
      ]
    },
    {
      "cell_type": "code",
      "execution_count": 18,
      "metadata": {
        "execution": {},
        "pycharm": {
          "name": "#%%\n"
        },
        "id": "-m_L9Dpx-dbu",
        "outputId": "afa79451-610c-4cbc-ac4e-1df3c61caf76",
        "colab": {
          "base_uri": "https://localhost:8080/"
        }
      },
      "outputs": [
        {
          "output_type": "stream",
          "name": "stdout",
          "text": [
            "Help on function restrict_spike_times in module __main__:\n",
            "\n",
            "restrict_spike_times(spike_times, interval)\n",
            "    Given a spike_time dataset, restrict to spikes within given interval.\n",
            "    \n",
            "    Args:\n",
            "      spike_times (sequence of np.ndarray): List or array of arrays,\n",
            "        each inner array has spike times for a single neuron.\n",
            "      interval (tuple): Min, max time values; keep min <= t < max.\n",
            "    \n",
            "    Returns:\n",
            "      np.ndarray: like `spike_times`, but only within `interval`\n",
            "\n"
          ]
        }
      ],
      "source": [
        "help(restrict_spike_times)"
      ]
    },
    {
      "cell_type": "code",
      "execution_count": 19,
      "metadata": {
        "execution": {},
        "pycharm": {
          "name": "#%%\n"
        },
        "id": "JZokGEye-dbu"
      },
      "outputs": [],
      "source": [
        "t_interval = (5, 15)  # units are seconds after start of recording\n",
        "interval_spike_times = restrict_spike_times(spike_times, t_interval)"
      ]
    },
    {
      "cell_type": "markdown",
      "metadata": {
        "execution": {},
        "id": "jbtbCwNj-dbu"
      },
      "source": [
        "Is this a representative interval? What fraction of the total spikes fall in this interval?"
      ]
    },
    {
      "cell_type": "code",
      "execution_count": 20,
      "metadata": {
        "execution": {},
        "pycharm": {
          "name": "#%%\n"
        },
        "id": "EAnzgahH-dbv",
        "outputId": "87ae27a1-3fa3-4643-c15e-00ae50effb35",
        "colab": {
          "base_uri": "https://localhost:8080/"
        }
      },
      "outputs": [
        {
          "output_type": "stream",
          "name": "stdout",
          "text": [
            "0.33% of the total spikes are in the interval\n"
          ]
        }
      ],
      "source": [
        "original_counts = sum([len(spikes) for spikes in spike_times])\n",
        "interval_counts = sum([len(spikes) for spikes in interval_spike_times])\n",
        "frac_interval_spikes = interval_counts / original_counts\n",
        "print(f\"{frac_interval_spikes:.2%} of the total spikes are in the interval\")"
      ]
    },
    {
      "cell_type": "markdown",
      "metadata": {
        "execution": {},
        "id": "FWD86VP9-dbv"
      },
      "source": [
        "How does this compare to the ratio between the interval duration and the experiment duration? (What fraction of the total time is in this interval?)\n",
        "\n",
        "We can approximate the experiment duration by taking the minimum and maximum spike time in the whole dataset. To do that, we \"concatenate\" all of the neurons into one array and then use `np.ptp` (\"peak-to-peak\") to get the difference between the maximum and minimum value:"
      ]
    },
    {
      "cell_type": "code",
      "execution_count": 21,
      "metadata": {
        "execution": {},
        "pycharm": {
          "name": "#%%\n"
        },
        "id": "Ln0i9O3x-dbv",
        "outputId": "97d0f730-ac2b-4cf0-d77b-436af8a3d278",
        "colab": {
          "base_uri": "https://localhost:8080/"
        }
      },
      "outputs": [
        {
          "output_type": "stream",
          "name": "stdout",
          "text": [
            "0.37% of the total time is in the interval\n"
          ]
        }
      ],
      "source": [
        "spike_times_flat = np.concatenate(spike_times)\n",
        "experiment_duration = np.ptp(spike_times_flat)\n",
        "interval_duration = t_interval[1] - t_interval[0]\n",
        "\n",
        "frac_interval_time = interval_duration / experiment_duration\n",
        "print(f\"{frac_interval_time:.2%} of the total time is in the interval\")"
      ]
    },
    {
      "cell_type": "markdown",
      "metadata": {
        "execution": {},
        "id": "x5Qoy65B-dbv"
      },
      "source": [
        "These two values—the fraction of total spikes and the fraction of total time—are similar. This suggests the average spike rate of the neuronal population is not very different in this interval compared to the entire recording.\n",
        "\n",
        "## Section 2.2: Plotting spike trains and rasters\n",
        "\n",
        "Now that we have a representative subset, we're ready to plot the spikes, using the matplotlib `plt.eventplot` function. Let's look at a single neuron first:"
      ]
    },
    {
      "cell_type": "code",
      "execution_count": 22,
      "metadata": {
        "execution": {},
        "pycharm": {
          "name": "#%%\n"
        },
        "id": "gGMlV_Xv-dbv",
        "outputId": "b8313f6f-b826-4559-a8a0-fbbacd317e18",
        "colab": {
          "base_uri": "https://localhost:8080/",
          "height": 592
        }
      },
      "outputs": [
        {
          "output_type": "display_data",
          "data": {
            "text/plain": [
              "<Figure size 800x600 with 1 Axes>"
            ],
            "image/png": "[encoded data removed]"
          },
          "metadata": {
            "image/png": {
              "width": 775,
              "height": 575
            }
          }
        }
      ],
      "source": [
        "neuron_idx = 1\n",
        "plt.eventplot(interval_spike_times[neuron_idx], color=\".2\")\n",
        "plt.xlabel(\"Time (s)\")\n",
        "plt.yticks([]);"
      ]
    },
    {
      "cell_type": "markdown",
      "metadata": {
        "execution": {},
        "id": "lQCj6ks4-dbv"
      },
      "source": [
        "We can also plot multiple neurons. Here are three:"
      ]
    },
    {
      "cell_type": "code",
      "execution_count": 23,
      "metadata": {
        "execution": {},
        "pycharm": {
          "name": "#%%\n"
        },
        "id": "0aTsHmdr-dbw",
        "outputId": "637d3ddb-d52a-4c5e-d2fa-b0a52964e68e",
        "colab": {
          "base_uri": "https://localhost:8080/",
          "height": 592
        }
      },
      "outputs": [
        {
          "output_type": "display_data",
          "data": {
            "text/plain": [
              "<Figure size 800x600 with 1 Axes>"
            ],
            "image/png": "[encoded data removed]"
          },
          "metadata": {
            "image/png": {
              "width": 775,
              "height": 575
            }
          }
        }
      ],
      "source": [
        "neuron_idx = [1, 11, 51]\n",
        "plt.eventplot(interval_spike_times[neuron_idx], color=\".2\")\n",
        "plt.xlabel(\"Time (s)\")\n",
        "plt.yticks([]);"
      ]
    },
    {
      "cell_type": "markdown",
      "metadata": {
        "execution": {},
        "id": "J7eS-L-S-dbw"
      },
      "source": [
        "This makes a \"raster\" plot, where the spikes from each neuron appear in a different row.\n",
        "\n",
        "Plotting a large number of neurons can give you a sense for the characteristics in the population. Let's show every 5th neuron that was recorded:"
      ]
    },
    {
      "cell_type": "code",
      "execution_count": 24,
      "metadata": {
        "execution": {},
        "pycharm": {
          "name": "#%%\n"
        },
        "id": "zSTAvSuz-dbw",
        "outputId": "bb239369-50ff-46b7-8d8e-46a0a0b39e38",
        "colab": {
          "base_uri": "https://localhost:8080/",
          "height": 592
        }
      },
      "outputs": [
        {
          "output_type": "display_data",
          "data": {
            "text/plain": [
              "<Figure size 800x600 with 1 Axes>"
            ],
            "image/png": "[encoded data removed]"
          },
          "metadata": {
            "image/png": {
              "width": 775,
              "height": 575
            }
          }
        }
      ],
      "source": [
        "neuron_idx = np.arange(0, len(spike_times), 5)\n",
        "plt.eventplot(interval_spike_times[neuron_idx], color=\".2\")\n",
        "plt.xlabel(\"Time (s)\")\n",
        "plt.yticks([]);"
      ]
    },
    {
      "cell_type": "markdown",
      "metadata": {
        "execution": {},
        "id": "ldQUFmzo-dbw"
      },
      "source": [
        "*Question*: How does the information in this plot relate to the histogram of total spike counts that you saw above?"
      ]
    },
    {
      "cell_type": "markdown",
      "metadata": {
        "execution": {},
        "id": "1bn_31R4-dbw"
      },
      "source": [
        "[*Click for solution*](https://github.com/NeuromatchAcademy/course-content/tree/main/tutorials/W1D1_ModelTypes/solutions/W1D1_Tutorial1_Solution_60e8b44b.py)\n",
        "\n"
      ]
    },
    {
      "cell_type": "code",
      "execution_count": null,
      "metadata": {
        "cellView": "form",
        "execution": {},
        "id": "RDvfMZxM-dbw"
      },
      "outputs": [],
      "source": [
        "# @title Video 3: Visualizing activity\n",
        "from ipywidgets import widgets\n",
        "from IPython.display import YouTubeVideo\n",
        "from IPython.display import IFrame\n",
        "from IPython.display import display\n",
        "\n",
        "\n",
        "class PlayVideo(IFrame):\n",
        "  def __init__(self, id, source, page=1, width=400, height=300, **kwargs):\n",
        "    self.id = id\n",
        "    if source == 'Bilibili':\n",
        "      src = f'https://player.bilibili.com/player.html?bvid={id}&page={page}'\n",
        "    elif source == 'Osf':\n",
        "      src = f'https://mfr.ca-1.osf.io/render?url=https://osf.io/download/{id}/?direct%26mode=render'\n",
        "    super(PlayVideo, self).__init__(src, width, height, **kwargs)\n",
        "\n",
        "\n",
        "def display_videos(video_ids, W=400, H=300, fs=1):\n",
        "  tab_contents = []\n",
        "  for i, video_id in enumerate(video_ids):\n",
        "    out = widgets.Output()\n",
        "    with out:\n",
        "      if video_ids[i][0] == 'Youtube':\n",
        "        video = YouTubeVideo(id=video_ids[i][1], width=W,\n",
        "                             height=H, fs=fs, rel=0)\n",
        "        print(f'Video available at https://youtube.com/watch?v={video.id}')\n",
        "      else:\n",
        "        video = PlayVideo(id=video_ids[i][1], source=video_ids[i][0], width=W,\n",
        "                          height=H, fs=fs, autoplay=False)\n",
        "        if video_ids[i][0] == 'Bilibili':\n",
        "          print(f'Video available at https://www.bilibili.com/video/{video.id}')\n",
        "        elif video_ids[i][0] == 'Osf':\n",
        "          print(f'Video available at https://osf.io/{video.id}')\n",
        "      display(video)\n",
        "    tab_contents.append(out)\n",
        "  return tab_contents\n",
        "\n",
        "\n",
        "video_ids = [('Youtube', 'QGA5FCW7kkA'), ('Bilibili', 'BV1dt4y1Q7C5')]\n",
        "tab_contents = display_videos(video_ids, W=854, H=480)\n",
        "tabs = widgets.Tab()\n",
        "tabs.children = tab_contents\n",
        "for i in range(len(tab_contents)):\n",
        "  tabs.set_title(i, video_ids[i][0])\n",
        "display(tabs)"
      ]
    },
    {
      "cell_type": "code",
      "execution_count": null,
      "metadata": {
        "cellView": "form",
        "execution": {},
        "id": "izFkqPhx-dbx"
      },
      "outputs": [],
      "source": [
        "# @title Submit your feedback\n",
        "content_review(f\"{feedback_prefix}_Visualizing_activity_Video\")"
      ]
    },
    {
      "cell_type": "markdown",
      "metadata": {
        "execution": {},
        "id": "BXZBdgvS-dbx"
      },
      "source": [
        "---\n",
        "\n",
        "# Section 3: Inter-spike intervals and their distributions\n",
        "\n",
        "*Estimated timing to here from start of tutorial: 25 min*"
      ]
    },
    {
      "cell_type": "markdown",
      "metadata": {
        "execution": {},
        "id": "jUMUPdTh-dbx"
      },
      "source": [
        "Given the ordered arrays of spike times for each neuron in `spike_times`, which we've just visualized, what can we ask next?\n",
        "\n",
        "Scientific questions are informed by existing models. So, what knowledge do we already have that can inform questions about this data?\n",
        "\n",
        "We know that there are physical constraints on neuron spiking. Spiking costs energy, which the neuron's cellular machinery can only obtain at a finite rate. Therefore neurons should have a refractory period: they can only fire as quickly as their metabolic processes can support, and there is a minimum delay between consecutive spikes of the same neuron.\n",
        "\n",
        "More generally, we can ask \"how long does a neuron wait to spike again?\" or \"what is the longest a neuron will wait?\" Can we transform spike times into something else, to address questions like these more directly?\n",
        "\n",
        "We can consider the inter-spike times (or interspike intervals: ISIs). These are simply the time differences between consecutive spikes of the same neuron.\n",
        "\n",
        "### Exercise 3: Plot the distribution of ISIs for a single neuron\n",
        "\n",
        "*Exercise objective:* make a histogram, like we did for spike counts, to show the distribution of ISIs for one of the neurons in the dataset.\n",
        "\n",
        "Do this in three steps:\n",
        "\n",
        "1. Extract the spike times for one of the neurons\n",
        "2. Compute the ISIs (the amount of time between spikes, or equivalently, the difference between adjacent spike times)\n",
        "3. Plot a histogram with the array of individual ISIs"
      ]
    },
    {
      "cell_type": "code",
      "execution_count": 25,
      "metadata": {
        "execution": {},
        "pycharm": {
          "name": "#%%\n"
        },
        "id": "JxQb_pec-dbx",
        "outputId": "1466557e-68a7-42ed-cf38-59920c141ec9",
        "colab": {
          "base_uri": "https://localhost:8080/",
          "height": 592
        }
      },
      "outputs": [
        {
          "output_type": "display_data",
          "data": {
            "text/plain": [
              "<Figure size 800x600 with 1 Axes>"
            ],
            "image/png": "[encoded data removed]"
          },
          "metadata": {
            "image/png": {
              "width": 775,
              "height": 575
            }
          }
        }
      ],
      "source": [
        "def compute_single_neuron_isis(spike_times, neuron_idx):\n",
        "  \"\"\"Compute a vector of ISIs for a single neuron given spike times.\n",
        "\n",
        "  Args:\n",
        "    spike_times (list of 1D arrays): Spike time dataset, with the first\n",
        "      dimension corresponding to different neurons.\n",
        "    neuron_idx (int): Index of the unit to compute ISIs for.\n",
        "\n",
        "  Returns:\n",
        "    isis (1D array): Duration of time between each spike from one neuron.\n",
        "  \"\"\"\n",
        "  #############################################################################\n",
        "  # Students: Fill in missing code (...) and comment or remove the next line\n",
        "  #raise NotImplementedError(\"Exercise: compute single neuron ISIs\")\n",
        "  #############################################################################\n",
        "\n",
        "  # Extract the spike times for the specified neuron\n",
        "  single_neuron_spikes = spike_times[neuron_idx]\n",
        "\n",
        "  # Compute the ISIs for this set of spikes\n",
        "  # Hint: the function np.diff computes discrete differences along an array\n",
        "  isis = np.diff(single_neuron_spikes)\n",
        "\n",
        "  return isis\n",
        "\n",
        "# Compute ISIs\n",
        "single_neuron_isis = compute_single_neuron_isis(spike_times, neuron_idx=283)\n",
        "\n",
        "# Visualize ISIs\n",
        "plot_isis(single_neuron_isis)"
      ]
    },
    {
      "cell_type": "markdown",
      "metadata": {
        "execution": {},
        "pycharm": {
          "name": "#%%\n"
        },
        "id": "MVdEBaIL-dbx"
      },
      "source": [
        "[*Click for solution*](https://github.com/NeuromatchAcademy/course-content/tree/main/tutorials/W1D1_ModelTypes/solutions/W1D1_Tutorial1_Solution_2972c168.py)\n",
        "\n",
        "*Example output:*\n",
        "\n",
        "<img alt='Solution hint' align='left' width=775.0 height=575.0 src=https://raw.githubusercontent.com/NeuromatchAcademy/course-content/main/tutorials/W1D1_ModelTypes/static/W1D1_Tutorial1_Solution_2972c168_0.png>\n",
        "\n"
      ]
    },
    {
      "cell_type": "markdown",
      "metadata": {
        "execution": {},
        "id": "LSO9nez4-dby"
      },
      "source": [
        "In general, the shorter ISIs are predominant, with counts decreasing rapidly (and smoothly, more or less) with increasing ISI. However, counts also rapidly decrease to zero with _decreasing_ ISI below the maximum of the distribution (8-11 ms). The absence of these very low ISIs agrees with the refractory period hypothesis: the neuron cannot fire quickly enough to populate this region of the ISI distribution.\n",
        "\n",
        "Check the distributions of some other neurons. To resolve various features of the distributions, you might need to play with the value of `bins` in the call to `plt.hist`. Using too few bins might smooth over interesting details, but if you use too many bins, the random variability will start to dominate.\n",
        "\n",
        "You might also want to restrict the range to see the shape of the distribution when focusing on relatively short or long ISIs. *Hint:* `plt.hist` takes a `range` argument"
      ]
    },
    {
      "cell_type": "code",
      "execution_count": null,
      "metadata": {
        "cellView": "form",
        "execution": {},
        "id": "z8TbLuxj-dby"
      },
      "outputs": [],
      "source": [
        "# @title Submit your feedback\n",
        "content_review(f\"{feedback_prefix}_ISIs_and_their_distributions_Exercise\")"
      ]
    },
    {
      "cell_type": "markdown",
      "metadata": {
        "execution": {},
        "id": "5dlIzMQ8-dby"
      },
      "source": [
        "---\n",
        "\n",
        "# Section 4: What is the functional form of an ISI distribution?\n",
        "\n",
        "*Estimated timing to here from start of tutorial: 35 min*"
      ]
    },
    {
      "cell_type": "code",
      "execution_count": null,
      "metadata": {
        "cellView": "form",
        "execution": {},
        "id": "WleCmyEs-dby"
      },
      "outputs": [],
      "source": [
        "# @title Video 4: ISI distribution\n",
        "from ipywidgets import widgets\n",
        "from IPython.display import YouTubeVideo\n",
        "from IPython.display import IFrame\n",
        "from IPython.display import display\n",
        "\n",
        "\n",
        "class PlayVideo(IFrame):\n",
        "  def __init__(self, id, source, page=1, width=400, height=300, **kwargs):\n",
        "    self.id = id\n",
        "    if source == 'Bilibili':\n",
        "      src = f'https://player.bilibili.com/player.html?bvid={id}&page={page}'\n",
        "    elif source == 'Osf':\n",
        "      src = f'https://mfr.ca-1.osf.io/render?url=https://osf.io/download/{id}/?direct%26mode=render'\n",
        "    super(PlayVideo, self).__init__(src, width, height, **kwargs)\n",
        "\n",
        "\n",
        "def display_videos(video_ids, W=400, H=300, fs=1):\n",
        "  tab_contents = []\n",
        "  for i, video_id in enumerate(video_ids):\n",
        "    out = widgets.Output()\n",
        "    with out:\n",
        "      if video_ids[i][0] == 'Youtube':\n",
        "        video = YouTubeVideo(id=video_ids[i][1], width=W,\n",
        "                             height=H, fs=fs, rel=0)\n",
        "        print(f'Video available at https://youtube.com/watch?v={video.id}')\n",
        "      else:\n",
        "        video = PlayVideo(id=video_ids[i][1], source=video_ids[i][0], width=W,\n",
        "                          height=H, fs=fs, autoplay=False)\n",
        "        if video_ids[i][0] == 'Bilibili':\n",
        "          print(f'Video available at https://www.bilibili.com/video/{video.id}')\n",
        "        elif video_ids[i][0] == 'Osf':\n",
        "          print(f'Video available at https://osf.io/{video.id}')\n",
        "      display(video)\n",
        "    tab_contents.append(out)\n",
        "  return tab_contents\n",
        "\n",
        "\n",
        "video_ids = [('Youtube', 'DHhM80MOTe8'), ('Bilibili', 'BV1ov411B7Pm')]\n",
        "tab_contents = display_videos(video_ids, W=854, H=480)\n",
        "tabs = widgets.Tab()\n",
        "tabs.children = tab_contents\n",
        "for i in range(len(tab_contents)):\n",
        "  tabs.set_title(i, video_ids[i][0])\n",
        "display(tabs)"
      ]
    },
    {
      "cell_type": "code",
      "execution_count": null,
      "metadata": {
        "cellView": "form",
        "execution": {},
        "id": "DQQjm3eX-dby"
      },
      "outputs": [],
      "source": [
        "# @title Submit your feedback\n",
        "content_review(f\"{feedback_prefix}_ISI_distribution_Video\")"
      ]
    },
    {
      "cell_type": "markdown",
      "metadata": {
        "execution": {},
        "id": "QtBWu896-dby"
      },
      "source": [
        "The ISI histograms seem to follow continuous, monotonically decreasing functions above their maxima. The function is clearly non-linear. Could it belong to a single family of functions?\n",
        "\n",
        "To motivate the idea of using a mathematical function to explain physiological phenomena, let's define a few different function forms that we might expect the relationship to follow: exponential, inverse, and linear."
      ]
    },
    {
      "cell_type": "code",
      "execution_count": 26,
      "metadata": {
        "execution": {},
        "pycharm": {
          "name": "#%%\n"
        },
        "id": "j6g0IZBz-dby"
      },
      "outputs": [],
      "source": [
        "def exponential(xs, scale, rate, x0):\n",
        "  \"\"\"A simple parameterized exponential function, applied element-wise.\n",
        "\n",
        "  Args:\n",
        "    xs (np.ndarray or float): Input(s) to the function.\n",
        "    scale (float): Linear scaling factor.\n",
        "    rate (float): Exponential growth (positive) or decay (negative) rate.\n",
        "    x0 (float): Horizontal offset.\n",
        "\n",
        "  \"\"\"\n",
        "  ys = scale * np.exp(rate * (xs - x0))\n",
        "  return ys\n",
        "\n",
        "def inverse(xs, scale, x0):\n",
        "  \"\"\"A simple parameterized inverse function (`1/x`), applied element-wise.\n",
        "\n",
        "  Args:\n",
        "    xs (np.ndarray or float): Input(s) to the function.\n",
        "    scale (float): Linear scaling factor.\n",
        "    x0 (float): Horizontal offset.\n",
        "\n",
        "  \"\"\"\n",
        "  ys = scale / (xs - x0)\n",
        "  return ys\n",
        "\n",
        "def linear(xs, slope, y0):\n",
        "  \"\"\"A simple linear function, applied element-wise.\n",
        "\n",
        "  Args:\n",
        "    xs (np.ndarray or float): Input(s) to the function.\n",
        "    slope (float): Slope of the line.\n",
        "    y0 (float): y-intercept of the line.\n",
        "\n",
        "  \"\"\"\n",
        "  ys = slope * xs + y0\n",
        "  return ys"
      ]
    },
    {
      "cell_type": "markdown",
      "metadata": {
        "execution": {},
        "id": "Yt5Ahc1n-dbz"
      },
      "source": [
        "### Interactive Demo 4: ISI functions explorer\n",
        "\n",
        "Here is an interactive demo where you can vary the parameters of these functions and see how well the resulting outputs correspond to the data. Adjust the parameters by moving the sliders and see how close you can get the lines to follow the falling curve of the histogram. This will give you a taste of what you're trying to do when you *fit a model* to data.\n",
        "\n",
        "\"Interactive demo\" cells have hidden code that defines an interface where you can play with the parameters of some function using sliders. You don't need to worry about how the code works – but you do need to **run the cell** to enable the sliders.\n",
        "\n",
        "- Which type of function (exponential/inverse/linear) can you make match the data best?\n"
      ]
    },
    {
      "cell_type": "code",
      "execution_count": 27,
      "metadata": {
        "cellView": "form",
        "execution": {},
        "pycharm": {
          "name": "#%%\n"
        },
        "id": "1_pI4llD-dbz",
        "outputId": "eb059aa9-10be-49da-ed11-f0fe5b082353",
        "colab": {
          "base_uri": "https://localhost:8080/",
          "height": 816,
          "referenced_widgets": [
            "0def73402c774eb4b0abe20ead76536c",
            "202709dac7e84949a14d946b429dabbc",
            "e796e41d32604865b9020526720e218d",
            "c52e19c46ecd41b3a1775bee8744fc8a",
            "625f5d069e8e4726ab6fef68fa3058a0",
            "27ff281733324ee599dd0bd5808ba9f2",
            "b56364c605eb4c01bc0d5a1d76b04ca5",
            "aac6739f37d34f6bb324a61e83368c25",
            "df67bbf3d9c44edeb95d1ed7c04e0487",
            "592c016786bb48e38d0b6e02d7fac172",
            "6441b7c873bd484cb9e7a45647e4b003",
            "2f9a31da22d844569b199fe0c13262fe",
            "5ed87dbc2e1a4bcca5442f54dacb9015",
            "3989e92a4e5a4ab48c733f0a961c32ff",
            "01e3bb3048b04f51bce69a7015fbe1a0",
            "f1437e6903864a50b0d0da00ee95def1",
            "26a5c57e989c4b0284763c532c98c60b",
            "9caee7c0f5d64ef88328c0abadebe7ee",
            "3008fd958fe2499fab8fe53543b8ee32",
            "b2cd4373c96a4399a685e6e7c6fa170f",
            "8d73905892d646c68b6ad5ea9ae7205d",
            "7a834f283adf4fc09285d7b16d7ca679",
            "ecc74a5e8cdb49e798027b2a98e7dd8c",
            "4ccaa7d2181d4b53bb1c85e25ad0e236",
            "423080af4b394115be4670290f09c89a"
          ]
        }
      },
      "outputs": [
        {
          "output_type": "display_data",
          "data": {
            "text/plain": [
              "interactive(children=(FloatSlider(value=1000.0, description='exp_scale', max=20000.0, step=250.0), FloatSlider…"
            ],
            "application/vnd.jupyter.widget-view+json": {
              "version_major": 2,
              "version_minor": 0,
              "model_id": "0def73402c774eb4b0abe20ead76536c"
            }
          },
          "metadata": {}
        }
      ],
      "source": [
        "#@markdown Be sure to run this cell to enable the demo\n",
        "# Don't worry about understanding this code! It's to setup an interactive plot.\n",
        "single_neuron_idx = 283\n",
        "single_neuron_spikes = spike_times[single_neuron_idx]\n",
        "single_neuron_isis = np.diff(single_neuron_spikes)\n",
        "\n",
        "counts, edges = np.histogram(\n",
        "  single_neuron_isis,\n",
        "  bins=50,\n",
        "  range=(0, single_neuron_isis.max())\n",
        ")\n",
        "\n",
        "functions = dict(\n",
        "  exponential=exponential,\n",
        "  inverse=inverse,\n",
        "  linear=linear,\n",
        ")\n",
        "\n",
        "colors = dict(\n",
        "  exponential=\"C1\",\n",
        "  inverse=\"C2\",\n",
        "  linear=\"C4\",\n",
        ")\n",
        "\n",
        "@widgets.interact(\n",
        "  exp_scale=widgets.FloatSlider(1000, min=0, max=20000, step=250),\n",
        "  exp_rate=widgets.FloatSlider(-10, min=-200, max=50, step=1),\n",
        "  exp_x0=widgets.FloatSlider(0.1, min=-0.5, max=0.5, step=0.005),\n",
        "  inv_scale=widgets.FloatSlider(1000, min=0, max=3e2, step=10),\n",
        "  inv_x0=widgets.FloatSlider(0, min=-0.2, max=0.2, step=0.01),\n",
        "  lin_slope=widgets.FloatSlider(-1e5, min=-6e5, max=1e5, step=10000),\n",
        "  lin_y0=widgets.FloatSlider(10000, min=0, max=4e4, step=1000),\n",
        ")\n",
        "def fit_plot(\n",
        "  exp_scale=1000, exp_rate=-10, exp_x0=0.1,\n",
        "  inv_scale=1000, inv_x0=0,\n",
        "  lin_slope=-1e5, lin_y0=2000,\n",
        "):\n",
        "  \"\"\"Helper function for plotting function fits with interactive sliders.\"\"\"\n",
        "  func_params = dict(\n",
        "    exponential=(exp_scale, exp_rate, exp_x0),\n",
        "    inverse=(inv_scale, inv_x0),\n",
        "    linear=(lin_slope, lin_y0),\n",
        "  )\n",
        "  f, ax = plt.subplots()\n",
        "  ax.fill_between(edges[:-1], counts, step=\"post\", alpha=.5)\n",
        "  xs = np.linspace(1e-10, edges.max())\n",
        "  for name, function in functions.items():\n",
        "    ys = function(xs, *func_params[name])\n",
        "    ax.plot(xs, ys, lw=3, color=colors[name], label=name);\n",
        "  ax.set(\n",
        "      xlim=(edges.min(), edges.max()),\n",
        "      ylim=(0, counts.max() * 1.1),\n",
        "      xlabel=\"ISI (s)\",\n",
        "      ylabel=\"Number of spikes\",\n",
        "  )\n",
        "  ax.legend()\n",
        "  plt.show()"
      ]
    },
    {
      "cell_type": "markdown",
      "metadata": {
        "execution": {},
        "id": "a6s3AYf6-dbz"
      },
      "source": [
        "[*Click for solution*](https://github.com/NeuromatchAcademy/course-content/tree/main/tutorials/W1D1_ModelTypes/solutions/W1D1_Tutorial1_Solution_1bfa4ab0.py)\n",
        "\n"
      ]
    },
    {
      "cell_type": "code",
      "execution_count": null,
      "metadata": {
        "cellView": "form",
        "execution": {},
        "id": "DrwKNVXH-dbz"
      },
      "outputs": [],
      "source": [
        "# @title Submit your feedback\n",
        "content_review(f\"{feedback_prefix}_ISI_functions_explorer_Interactive_Demo_and_Discussion\")"
      ]
    },
    {
      "cell_type": "code",
      "execution_count": null,
      "metadata": {
        "cellView": "form",
        "execution": {},
        "id": "FW5Tz4tl-dbz"
      },
      "outputs": [],
      "source": [
        "# @title Video 5: Fitting models by hand\n",
        "from ipywidgets import widgets\n",
        "from IPython.display import YouTubeVideo\n",
        "from IPython.display import IFrame\n",
        "from IPython.display import display\n",
        "\n",
        "\n",
        "class PlayVideo(IFrame):\n",
        "  def __init__(self, id, source, page=1, width=400, height=300, **kwargs):\n",
        "    self.id = id\n",
        "    if source == 'Bilibili':\n",
        "      src = f'https://player.bilibili.com/player.html?bvid={id}&page={page}'\n",
        "    elif source == 'Osf':\n",
        "      src = f'https://mfr.ca-1.osf.io/render?url=https://osf.io/download/{id}/?direct%26mode=render'\n",
        "    super(PlayVideo, self).__init__(src, width, height, **kwargs)\n",
        "\n",
        "\n",
        "def display_videos(video_ids, W=400, H=300, fs=1):\n",
        "  tab_contents = []\n",
        "  for i, video_id in enumerate(video_ids):\n",
        "    out = widgets.Output()\n",
        "    with out:\n",
        "      if video_ids[i][0] == 'Youtube':\n",
        "        video = YouTubeVideo(id=video_ids[i][1], width=W,\n",
        "                             height=H, fs=fs, rel=0)\n",
        "        print(f'Video available at https://youtube.com/watch?v={video.id}')\n",
        "      else:\n",
        "        video = PlayVideo(id=video_ids[i][1], source=video_ids[i][0], width=W,\n",
        "                          height=H, fs=fs, autoplay=False)\n",
        "        if video_ids[i][0] == 'Bilibili':\n",
        "          print(f'Video available at https://www.bilibili.com/video/{video.id}')\n",
        "        elif video_ids[i][0] == 'Osf':\n",
        "          print(f'Video available at https://osf.io/{video.id}')\n",
        "      display(video)\n",
        "    tab_contents.append(out)\n",
        "  return tab_contents\n",
        "\n",
        "\n",
        "video_ids = [('Youtube', 'uW2HDk_4-wk'), ('Bilibili', 'BV1w54y1S7Eb')]\n",
        "tab_contents = display_videos(video_ids, W=854, H=480)\n",
        "tabs = widgets.Tab()\n",
        "tabs.children = tab_contents\n",
        "for i in range(len(tab_contents)):\n",
        "  tabs.set_title(i, video_ids[i][0])\n",
        "display(tabs)"
      ]
    },
    {
      "cell_type": "code",
      "execution_count": null,
      "metadata": {
        "cellView": "form",
        "execution": {},
        "id": "vAJO8fom-db0"
      },
      "outputs": [],
      "source": [
        "# @title Submit your feedback\n",
        "content_review(f\"{feedback_prefix}_Fitting_models_by_hand_Video\")"
      ]
    },
    {
      "cell_type": "markdown",
      "metadata": {
        "execution": {},
        "id": "09f2xwtk-db0"
      },
      "source": [
        "---\n",
        "# Section 5: Reflecting on what models\n",
        "\n",
        "*Estimated timing to here from start of tutorial: 40 min*"
      ]
    },
    {
      "cell_type": "markdown",
      "metadata": {
        "execution": {},
        "id": "Gyy1lTRG-db0"
      },
      "source": [
        "## Think! 5: Reflecting on what models\n",
        "\n",
        "Please discuss the following questions for around 10 minutes with your group:\n",
        "- Have you seen what models before?\n",
        "- Have you ever done one?\n",
        "- Why are what models useful?\n",
        "- When are they possible? Does your field have what models?\n",
        "- What do we learn from constructing them?"
      ]
    },
    {
      "cell_type": "code",
      "execution_count": null,
      "metadata": {
        "cellView": "form",
        "execution": {},
        "id": "cZP2R0PH-db0"
      },
      "outputs": [],
      "source": [
        "# @title Submit your feedback\n",
        "content_review(f\"{feedback_prefix}_Reflecting_on_what_models_Discussion\")"
      ]
    },
    {
      "cell_type": "markdown",
      "metadata": {
        "execution": {},
        "id": "4JQYHSyY-db0"
      },
      "source": [
        "---\n",
        "# Summary\n",
        "\n",
        "*Estimated timing of tutorial: 50 minutes*\n",
        "\n",
        "In this tutorial, we loaded some neural data and poked at it to understand how the dataset is organized. Then we made some basic plots to visualize (1) the average level of activity across the population and (2) the distribution of ISIs for an individual neuron. In the very last bit, we started to think about using mathematical formalisms to understand or explain some physiological phenomenon. All of this only allowed us to understand \"What\" the data looks like.\n",
        "\n",
        "This is the first step towards developing models that can tell us something about the brain. That's what we'll focus on in the next two tutorials."
      ]
    }
  ],
  "metadata": {
    "colab": {
      "name": "W1D1_Tutorial1",
      "provenance": [],
      "include_colab_link": true
    },
    "kernel": {
      "display_name": "Python 3",
      "language": "python",
      "name": "python3"
    },
    "kernelspec": {
      "display_name": "Python 3",
      "name": "python3"
    },
    "language_info": {
      "codemirror_mode": {
        "name": "ipython",
        "version": 3
      },
      "file_extension": ".py",
      "mimetype": "text/x-python",
      "name": "python",
      "nbconvert_exporter": "python",
      "pygments_lexer": "ipython3",
      "version": "3.9.21"
    },
    "widgets": {
      "application/vnd.jupyter.widget-state+json": {
        "0def73402c774eb4b0abe20ead76536c": {
          "model_module": "@jupyter-widgets/controls",
          "model_name": "VBoxModel",
          "model_module_version": "1.5.0",
          "state": {
            "_dom_classes": [
              "widget-interact"
            ],
            "_model_module": "@jupyter-widgets/controls",
            "_model_module_version": "1.5.0",
            "_model_name": "VBoxModel",
            "_view_count": null,
            "_view_module": "@jupyter-widgets/controls",
            "_view_module_version": "1.5.0",
            "_view_name": "VBoxView",
            "box_style": "",
            "children": [
              "IPY_MODEL_202709dac7e84949a14d946b429dabbc",
              "IPY_MODEL_e796e41d32604865b9020526720e218d",
              "IPY_MODEL_c52e19c46ecd41b3a1775bee8744fc8a",
              "IPY_MODEL_625f5d069e8e4726ab6fef68fa3058a0",
              "IPY_MODEL_27ff281733324ee599dd0bd5808ba9f2",
              "IPY_MODEL_b56364c605eb4c01bc0d5a1d76b04ca5",
              "IPY_MODEL_aac6739f37d34f6bb324a61e83368c25",
              "IPY_MODEL_df67bbf3d9c44edeb95d1ed7c04e0487"
            ],
            "layout": "IPY_MODEL_592c016786bb48e38d0b6e02d7fac172"
          }
        },
        "202709dac7e84949a14d946b429dabbc": {
          "model_module": "@jupyter-widgets/controls",
          "model_name": "FloatSliderModel",
          "model_module_version": "1.5.0",
          "state": {
            "_dom_classes": [],
            "_model_module": "@jupyter-widgets/controls",
            "_model_module_version": "1.5.0",
            "_model_name": "FloatSliderModel",
            "_view_count": null,
            "_view_module": "@jupyter-widgets/controls",
            "_view_module_version": "1.5.0",
            "_view_name": "FloatSliderView",
            "continuous_update": true,
            "description": "exp_scale",
            "description_tooltip": null,
            "disabled": false,
            "layout": "IPY_MODEL_6441b7c873bd484cb9e7a45647e4b003",
            "max": 20000,
            "min": 0,
            "orientation": "horizontal",
            "readout": true,
            "readout_format": ".2f",
            "step": 250,
            "style": "IPY_MODEL_2f9a31da22d844569b199fe0c13262fe",
            "value": 1000
          }
        },
        "e796e41d32604865b9020526720e218d": {
          "model_module": "@jupyter-widgets/controls",
          "model_name": "FloatSliderModel",
          "model_module_version": "1.5.0",
          "state": {
            "_dom_classes": [],
            "_model_module": "@jupyter-widgets/controls",
            "_model_module_version": "1.5.0",
            "_model_name": "FloatSliderModel",
            "_view_count": null,
            "_view_module": "@jupyter-widgets/controls",
            "_view_module_version": "1.5.0",
            "_view_name": "FloatSliderView",
            "continuous_update": true,
            "description": "exp_rate",
            "description_tooltip": null,
            "disabled": false,
            "layout": "IPY_MODEL_5ed87dbc2e1a4bcca5442f54dacb9015",
            "max": 50,
            "min": -200,
            "orientation": "horizontal",
            "readout": true,
            "readout_format": ".2f",
            "step": 1,
            "style": "IPY_MODEL_3989e92a4e5a4ab48c733f0a961c32ff",
            "value": -49
          }
        },
        "c52e19c46ecd41b3a1775bee8744fc8a": {
          "model_module": "@jupyter-widgets/controls",
          "model_name": "FloatSliderModel",
          "model_module_version": "1.5.0",
          "state": {
            "_dom_classes": [],
            "_model_module": "@jupyter-widgets/controls",
            "_model_module_version": "1.5.0",
            "_model_name": "FloatSliderModel",
            "_view_count": null,
            "_view_module": "@jupyter-widgets/controls",
            "_view_module_version": "1.5.0",
            "_view_name": "FloatSliderView",
            "continuous_update": true,
            "description": "exp_x0",
            "description_tooltip": null,
            "disabled": false,
            "layout": "IPY_MODEL_01e3bb3048b04f51bce69a7015fbe1a0",
            "max": 0.5,
            "min": -0.5,
            "orientation": "horizontal",
            "readout": true,
            "readout_format": ".2f",
            "step": 0.005,
            "style": "IPY_MODEL_f1437e6903864a50b0d0da00ee95def1",
            "value": 0.07
          }
        },
        "625f5d069e8e4726ab6fef68fa3058a0": {
          "model_module": "@jupyter-widgets/controls",
          "model_name": "FloatSliderModel",
          "model_module_version": "1.5.0",
          "state": {
            "_dom_classes": [],
            "_model_module": "@jupyter-widgets/controls",
            "_model_module_version": "1.5.0",
            "_model_name": "FloatSliderModel",
            "_view_count": null,
            "_view_module": "@jupyter-widgets/controls",
            "_view_module_version": "1.5.0",
            "_view_name": "FloatSliderView",
            "continuous_update": true,
            "description": "inv_scale",
            "description_tooltip": null,
            "disabled": false,
            "layout": "IPY_MODEL_26a5c57e989c4b0284763c532c98c60b",
            "max": 300,
            "min": 0,
            "orientation": "horizontal",
            "readout": true,
            "readout_format": ".2f",
            "step": 10,
            "style": "IPY_MODEL_9caee7c0f5d64ef88328c0abadebe7ee",
            "value": 230
          }
        },
        "27ff281733324ee599dd0bd5808ba9f2": {
          "model_module": "@jupyter-widgets/controls",
          "model_name": "FloatSliderModel",
          "model_module_version": "1.5.0",
          "state": {
            "_dom_classes": [],
            "_model_module": "@jupyter-widgets/controls",
            "_model_module_version": "1.5.0",
            "_model_name": "FloatSliderModel",
            "_view_count": null,
            "_view_module": "@jupyter-widgets/controls",
            "_view_module_version": "1.5.0",
            "_view_name": "FloatSliderView",
            "continuous_update": true,
            "description": "inv_x0",
            "description_tooltip": null,
            "disabled": false,
            "layout": "IPY_MODEL_3008fd958fe2499fab8fe53543b8ee32",
            "max": 0.2,
            "min": -0.2,
            "orientation": "horizontal",
            "readout": true,
            "readout_format": ".2f",
            "step": 0.01,
            "style": "IPY_MODEL_b2cd4373c96a4399a685e6e7c6fa170f",
            "value": 0.01
          }
        },
        "b56364c605eb4c01bc0d5a1d76b04ca5": {
          "model_module": "@jupyter-widgets/controls",
          "model_name": "FloatSliderModel",
          "model_module_version": "1.5.0",
          "state": {
            "_dom_classes": [],
            "_model_module": "@jupyter-widgets/controls",
            "_model_module_version": "1.5.0",
            "_model_name": "FloatSliderModel",
            "_view_count": null,
            "_view_module": "@jupyter-widgets/controls",
            "_view_module_version": "1.5.0",
            "_view_name": "FloatSliderView",
            "continuous_update": true,
            "description": "lin_slope",
            "description_tooltip": null,
            "disabled": false,
            "layout": "IPY_MODEL_8d73905892d646c68b6ad5ea9ae7205d",
            "max": 100000,
            "min": -600000,
            "orientation": "horizontal",
            "readout": true,
            "readout_format": ".2f",
            "step": 10000,
            "style": "IPY_MODEL_7a834f283adf4fc09285d7b16d7ca679",
            "value": -330000
          }
        },
        "aac6739f37d34f6bb324a61e83368c25": {
          "model_module": "@jupyter-widgets/controls",
          "model_name": "FloatSliderModel",
          "model_module_version": "1.5.0",
          "state": {
            "_dom_classes": [],
            "_model_module": "@jupyter-widgets/controls",
            "_model_module_version": "1.5.0",
            "_model_name": "FloatSliderModel",
            "_view_count": null,
            "_view_module": "@jupyter-widgets/controls",
            "_view_module_version": "1.5.0",
            "_view_name": "FloatSliderView",
            "continuous_update": true,
            "description": "lin_y0",
            "description_tooltip": null,
            "disabled": false,
            "layout": "IPY_MODEL_ecc74a5e8cdb49e798027b2a98e7dd8c",
            "max": 40000,
            "min": 0,
            "orientation": "horizontal",
            "readout": true,
            "readout_format": ".2f",
            "step": 1000,
            "style": "IPY_MODEL_4ccaa7d2181d4b53bb1c85e25ad0e236",
            "value": 18000
          }
        },
        "df67bbf3d9c44edeb95d1ed7c04e0487": {
          "model_module": "@jupyter-widgets/output",
          "model_name": "OutputModel",
          "model_module_version": "1.0.0",
          "state": {
            "_dom_classes": [],
            "_model_module": "@jupyter-widgets/output",
            "_model_module_version": "1.0.0",
            "_model_name": "OutputModel",
            "_view_count": null,
            "_view_module": "@jupyter-widgets/output",
            "_view_module_version": "1.0.0",
            "_view_name": "OutputView",
            "layout": "IPY_MODEL_423080af4b394115be4670290f09c89a",
            "msg_id": "",
            "outputs": [
              {
                "output_type": "display_data",
                "data": {
                  "text/plain": "<Figure size 800x600 with 1 Axes>",
                  "image/png": "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\n"
                },
                "metadata": {
                  "image/png": {
                    "width": 775,
                    "height": 575
                  }
                }
              }
            ]
          }
        },
        "592c016786bb48e38d0b6e02d7fac172": {
          "model_module": "@jupyter-widgets/base",
          "model_name": "LayoutModel",
          "model_module_version": "1.2.0",
          "state": {
            "_model_module": "@jupyter-widgets/base",
            "_model_module_version": "1.2.0",
            "_model_name": "LayoutModel",
            "_view_count": null,
            "_view_module": "@jupyter-widgets/base",
            "_view_module_version": "1.2.0",
            "_view_name": "LayoutView",
            "align_content": null,
            "align_items": null,
            "align_self": null,
            "border": null,
            "bottom": null,
            "display": null,
            "flex": null,
            "flex_flow": null,
            "grid_area": null,
            "grid_auto_columns": null,
            "grid_auto_flow": null,
            "grid_auto_rows": null,
            "grid_column": null,
            "grid_gap": null,
            "grid_row": null,
            "grid_template_areas": null,
            "grid_template_columns": null,
            "grid_template_rows": null,
            "height": null,
            "justify_content": null,
            "justify_items": null,
            "left": null,
            "margin": null,
            "max_height": null,
            "max_width": null,
            "min_height": null,
            "min_width": null,
            "object_fit": null,
            "object_position": null,
            "order": null,
            "overflow": null,
            "overflow_x": null,
            "overflow_y": null,
            "padding": null,
            "right": null,
            "top": null,
            "visibility": null,
            "width": null
          }
        },
        "6441b7c873bd484cb9e7a45647e4b003": {
          "model_module": "@jupyter-widgets/base",
          "model_name": "LayoutModel",
          "model_module_version": "1.2.0",
          "state": {
            "_model_module": "@jupyter-widgets/base",
            "_model_module_version": "1.2.0",
            "_model_name": "LayoutModel",
            "_view_count": null,
            "_view_module": "@jupyter-widgets/base",
            "_view_module_version": "1.2.0",
            "_view_name": "LayoutView",
            "align_content": null,
            "align_items": null,
            "align_self": null,
            "border": null,
            "bottom": null,
            "display": null,
            "flex": null,
            "flex_flow": null,
            "grid_area": null,
            "grid_auto_columns": null,
            "grid_auto_flow": null,
            "grid_auto_rows": null,
            "grid_column": null,
            "grid_gap": null,
            "grid_row": null,
            "grid_template_areas": null,
            "grid_template_columns": null,
            "grid_template_rows": null,
            "height": null,
            "justify_content": null,
            "justify_items": null,
            "left": null,
            "margin": null,
            "max_height": null,
            "max_width": null,
            "min_height": null,
            "min_width": null,
            "object_fit": null,
            "object_position": null,
            "order": null,
            "overflow": null,
            "overflow_x": null,
            "overflow_y": null,
            "padding": null,
            "right": null,
            "top": null,
            "visibility": null,
            "width": null
          }
        },
        "2f9a31da22d844569b199fe0c13262fe": {
          "model_module": "@jupyter-widgets/controls",
          "model_name": "SliderStyleModel",
          "model_module_version": "1.5.0",
          "state": {
            "_model_module": "@jupyter-widgets/controls",
            "_model_module_version": "1.5.0",
            "_model_name": "SliderStyleModel",
            "_view_count": null,
            "_view_module": "@jupyter-widgets/base",
            "_view_module_version": "1.2.0",
            "_view_name": "StyleView",
            "description_width": "",
            "handle_color": null
          }
        },
        "5ed87dbc2e1a4bcca5442f54dacb9015": {
          "model_module": "@jupyter-widgets/base",
          "model_name": "LayoutModel",
          "model_module_version": "1.2.0",
          "state": {
            "_model_module": "@jupyter-widgets/base",
            "_model_module_version": "1.2.0",
            "_model_name": "LayoutModel",
            "_view_count": null,
            "_view_module": "@jupyter-widgets/base",
            "_view_module_version": "1.2.0",
            "_view_name": "LayoutView",
            "align_content": null,
            "align_items": null,
            "align_self": null,
            "border": null,
            "bottom": null,
            "display": null,
            "flex": null,
            "flex_flow": null,
            "grid_area": null,
            "grid_auto_columns": null,
            "grid_auto_flow": null,
            "grid_auto_rows": null,
            "grid_column": null,
            "grid_gap": null,
            "grid_row": null,
            "grid_template_areas": null,
            "grid_template_columns": null,
            "grid_template_rows": null,
            "height": null,
            "justify_content": null,
            "justify_items": null,
            "left": null,
            "margin": null,
            "max_height": null,
            "max_width": null,
            "min_height": null,
            "min_width": null,
            "object_fit": null,
            "object_position": null,
            "order": null,
            "overflow": null,
            "overflow_x": null,
            "overflow_y": null,
            "padding": null,
            "right": null,
            "top": null,
            "visibility": null,
            "width": null
          }
        },
        "3989e92a4e5a4ab48c733f0a961c32ff": {
          "model_module": "@jupyter-widgets/controls",
          "model_name": "SliderStyleModel",
          "model_module_version": "1.5.0",
          "state": {
            "_model_module": "@jupyter-widgets/controls",
            "_model_module_version": "1.5.0",
            "_model_name": "SliderStyleModel",
            "_view_count": null,
            "_view_module": "@jupyter-widgets/base",
            "_view_module_version": "1.2.0",
            "_view_name": "StyleView",
            "description_width": "",
            "handle_color": null
          }
        },
        "01e3bb3048b04f51bce69a7015fbe1a0": {
          "model_module": "@jupyter-widgets/base",
          "model_name": "LayoutModel",
          "model_module_version": "1.2.0",
          "state": {
            "_model_module": "@jupyter-widgets/base",
            "_model_module_version": "1.2.0",
            "_model_name": "LayoutModel",
            "_view_count": null,
            "_view_module": "@jupyter-widgets/base",
            "_view_module_version": "1.2.0",
            "_view_name": "LayoutView",
            "align_content": null,
            "align_items": null,
            "align_self": null,
            "border": null,
            "bottom": null,
            "display": null,
            "flex": null,
            "flex_flow": null,
            "grid_area": null,
            "grid_auto_columns": null,
            "grid_auto_flow": null,
            "grid_auto_rows": null,
            "grid_column": null,
            "grid_gap": null,
            "grid_row": null,
            "grid_template_areas": null,
            "grid_template_columns": null,
            "grid_template_rows": null,
            "height": null,
            "justify_content": null,
            "justify_items": null,
            "left": null,
            "margin": null,
            "max_height": null,
            "max_width": null,
            "min_height": null,
            "min_width": null,
            "object_fit": null,
            "object_position": null,
            "order": null,
            "overflow": null,
            "overflow_x": null,
            "overflow_y": null,
            "padding": null,
            "right": null,
            "top": null,
            "visibility": null,
            "width": null
          }
        },
        "f1437e6903864a50b0d0da00ee95def1": {
          "model_module": "@jupyter-widgets/controls",
          "model_name": "SliderStyleModel",
          "model_module_version": "1.5.0",
          "state": {
            "_model_module": "@jupyter-widgets/controls",
            "_model_module_version": "1.5.0",
            "_model_name": "SliderStyleModel",
            "_view_count": null,
            "_view_module": "@jupyter-widgets/base",
            "_view_module_version": "1.2.0",
            "_view_name": "StyleView",
            "description_width": "",
            "handle_color": null
          }
        },
        "26a5c57e989c4b0284763c532c98c60b": {
          "model_module": "@jupyter-widgets/base",
          "model_name": "LayoutModel",
          "model_module_version": "1.2.0",
          "state": {
            "_model_module": "@jupyter-widgets/base",
            "_model_module_version": "1.2.0",
            "_model_name": "LayoutModel",
            "_view_count": null,
            "_view_module": "@jupyter-widgets/base",
            "_view_module_version": "1.2.0",
            "_view_name": "LayoutView",
            "align_content": null,
            "align_items": null,
            "align_self": null,
            "border": null,
            "bottom": null,
            "display": null,
            "flex": null,
            "flex_flow": null,
            "grid_area": null,
            "grid_auto_columns": null,
            "grid_auto_flow": null,
            "grid_auto_rows": null,
            "grid_column": null,
            "grid_gap": null,
            "grid_row": null,
            "grid_template_areas": null,
            "grid_template_columns": null,
            "grid_template_rows": null,
            "height": null,
            "justify_content": null,
            "justify_items": null,
            "left": null,
            "margin": null,
            "max_height": null,
            "max_width": null,
            "min_height": null,
            "min_width": null,
            "object_fit": null,
            "object_position": null,
            "order": null,
            "overflow": null,
            "overflow_x": null,
            "overflow_y": null,
            "padding": null,
            "right": null,
            "top": null,
            "visibility": null,
            "width": null
          }
        },
        "9caee7c0f5d64ef88328c0abadebe7ee": {
          "model_module": "@jupyter-widgets/controls",
          "model_name": "SliderStyleModel",
          "model_module_version": "1.5.0",
          "state": {
            "_model_module": "@jupyter-widgets/controls",
            "_model_module_version": "1.5.0",
            "_model_name": "SliderStyleModel",
            "_view_count": null,
            "_view_module": "@jupyter-widgets/base",
            "_view_module_version": "1.2.0",
            "_view_name": "StyleView",
            "description_width": "",
            "handle_color": null
          }
        },
        "3008fd958fe2499fab8fe53543b8ee32": {
          "model_module": "@jupyter-widgets/base",
          "model_name": "LayoutModel",
          "model_module_version": "1.2.0",
          "state": {
            "_model_module": "@jupyter-widgets/base",
            "_model_module_version": "1.2.0",
            "_model_name": "LayoutModel",
            "_view_count": null,
            "_view_module": "@jupyter-widgets/base",
            "_view_module_version": "1.2.0",
            "_view_name": "LayoutView",
            "align_content": null,
            "align_items": null,
            "align_self": null,
            "border": null,
            "bottom": null,
            "display": null,
            "flex": null,
            "flex_flow": null,
            "grid_area": null,
            "grid_auto_columns": null,
            "grid_auto_flow": null,
            "grid_auto_rows": null,
            "grid_column": null,
            "grid_gap": null,
            "grid_row": null,
            "grid_template_areas": null,
            "grid_template_columns": null,
            "grid_template_rows": null,
            "height": null,
            "justify_content": null,
            "justify_items": null,
            "left": null,
            "margin": null,
            "max_height": null,
            "max_width": null,
            "min_height": null,
            "min_width": null,
            "object_fit": null,
            "object_position": null,
            "order": null,
            "overflow": null,
            "overflow_x": null,
            "overflow_y": null,
            "padding": null,
            "right": null,
            "top": null,
            "visibility": null,
            "width": null
          }
        },
        "b2cd4373c96a4399a685e6e7c6fa170f": {
          "model_module": "@jupyter-widgets/controls",
          "model_name": "SliderStyleModel",
          "model_module_version": "1.5.0",
          "state": {
            "_model_module": "@jupyter-widgets/controls",
            "_model_module_version": "1.5.0",
            "_model_name": "SliderStyleModel",
            "_view_count": null,
            "_view_module": "@jupyter-widgets/base",
            "_view_module_version": "1.2.0",
            "_view_name": "StyleView",
            "description_width": "",
            "handle_color": null
          }
        },
        "8d73905892d646c68b6ad5ea9ae7205d": {
          "model_module": "@jupyter-widgets/base",
          "model_name": "LayoutModel",
          "model_module_version": "1.2.0",
          "state": {
            "_model_module": "@jupyter-widgets/base",
            "_model_module_version": "1.2.0",
            "_model_name": "LayoutModel",
            "_view_count": null,
            "_view_module": "@jupyter-widgets/base",
            "_view_module_version": "1.2.0",
            "_view_name": "LayoutView",
            "align_content": null,
            "align_items": null,
            "align_self": null,
            "border": null,
            "bottom": null,
            "display": null,
            "flex": null,
            "flex_flow": null,
            "grid_area": null,
            "grid_auto_columns": null,
            "grid_auto_flow": null,
            "grid_auto_rows": null,
            "grid_column": null,
            "grid_gap": null,
            "grid_row": null,
            "grid_template_areas": null,
            "grid_template_columns": null,
            "grid_template_rows": null,
            "height": null,
            "justify_content": null,
            "justify_items": null,
            "left": null,
            "margin": null,
            "max_height": null,
            "max_width": null,
            "min_height": null,
            "min_width": null,
            "object_fit": null,
            "object_position": null,
            "order": null,
            "overflow": null,
            "overflow_x": null,
            "overflow_y": null,
            "padding": null,
            "right": null,
            "top": null,
            "visibility": null,
            "width": null
          }
        },
        "7a834f283adf4fc09285d7b16d7ca679": {
          "model_module": "@jupyter-widgets/controls",
          "model_name": "SliderStyleModel",
          "model_module_version": "1.5.0",
          "state": {
            "_model_module": "@jupyter-widgets/controls",
            "_model_module_version": "1.5.0",
            "_model_name": "SliderStyleModel",
            "_view_count": null,
            "_view_module": "@jupyter-widgets/base",
            "_view_module_version": "1.2.0",
            "_view_name": "StyleView",
            "description_width": "",
            "handle_color": null
          }
        },
        "ecc74a5e8cdb49e798027b2a98e7dd8c": {
          "model_module": "@jupyter-widgets/base",
          "model_name": "LayoutModel",
          "model_module_version": "1.2.0",
          "state": {
            "_model_module": "@jupyter-widgets/base",
            "_model_module_version": "1.2.0",
            "_model_name": "LayoutModel",
            "_view_count": null,
            "_view_module": "@jupyter-widgets/base",
            "_view_module_version": "1.2.0",
            "_view_name": "LayoutView",
            "align_content": null,
            "align_items": null,
            "align_self": null,
            "border": null,
            "bottom": null,
            "display": null,
            "flex": null,
            "flex_flow": null,
            "grid_area": null,
            "grid_auto_columns": null,
            "grid_auto_flow": null,
            "grid_auto_rows": null,
            "grid_column": null,
            "grid_gap": null,
            "grid_row": null,
            "grid_template_areas": null,
            "grid_template_columns": null,
            "grid_template_rows": null,
            "height": null,
            "justify_content": null,
            "justify_items": null,
            "left": null,
            "margin": null,
            "max_height": null,
            "max_width": null,
            "min_height": null,
            "min_width": null,
            "object_fit": null,
            "object_position": null,
            "order": null,
            "overflow": null,
            "overflow_x": null,
            "overflow_y": null,
            "padding": null,
            "right": null,
            "top": null,
            "visibility": null,
            "width": null
          }
        },
        "4ccaa7d2181d4b53bb1c85e25ad0e236": {
          "model_module": "@jupyter-widgets/controls",
          "model_name": "SliderStyleModel",
          "model_module_version": "1.5.0",
          "state": {
            "_model_module": "@jupyter-widgets/controls",
            "_model_module_version": "1.5.0",
            "_model_name": "SliderStyleModel",
            "_view_count": null,
            "_view_module": "@jupyter-widgets/base",
            "_view_module_version": "1.2.0",
            "_view_name": "StyleView",
            "description_width": "",
            "handle_color": null
          }
        },
        "423080af4b394115be4670290f09c89a": {
          "model_module": "@jupyter-widgets/base",
          "model_name": "LayoutModel",
          "model_module_version": "1.2.0",
          "state": {
            "_model_module": "@jupyter-widgets/base",
            "_model_module_version": "1.2.0",
            "_model_name": "LayoutModel",
            "_view_count": null,
            "_view_module": "@jupyter-widgets/base",
            "_view_module_version": "1.2.0",
            "_view_name": "LayoutView",
            "align_content": null,
            "align_items": null,
            "align_self": null,
            "border": null,
            "bottom": null,
            "display": null,
            "flex": null,
            "flex_flow": null,
            "grid_area": null,
            "grid_auto_columns": null,
            "grid_auto_flow": null,
            "grid_auto_rows": null,
            "grid_column": null,
            "grid_gap": null,
            "grid_row": null,
            "grid_template_areas": null,
            "grid_template_columns": null,
            "grid_template_rows": null,
            "height": null,
            "justify_content": null,
            "justify_items": null,
            "left": null,
            "margin": null,
            "max_height": null,
            "max_width": null,
            "min_height": null,
            "min_width": null,
            "object_fit": null,
            "object_position": null,
            "order": null,
            "overflow": null,
            "overflow_x": null,
            "overflow_y": null,
            "padding": null,
            "right": null,
            "top": null,
            "visibility": null,
            "width": null
          }
        }
      }
    }
  },
  "nbformat": 4,
  "nbformat_minor": 0
}